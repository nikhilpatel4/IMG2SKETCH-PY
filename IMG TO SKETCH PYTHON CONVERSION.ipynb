{
 "cells": [
  {
   "cell_type": "code",
   "execution_count": 4,
   "id": "7314b74e",
   "metadata": {},
   "outputs": [],
   "source": [
    "import cv2 as cv\n",
    "image = cv.imread('image.jpg')\n",
    "gray_image = cv.cvtColor(image, cv.COLOR_BGR2GRAY)\n",
    "inverted = 255-gray_image\n",
    "blur = cv.GaussianBlur(inverted, (21, 21), 0)\n",
    "invertedblur = 255-blur\n",
    "sketch = cv.divide(gray_image, invertedblur, scale=256.0)\n",
    "cv.imwrite(\"sketch_image.png\", sketch)\n",
    "cv.imshow(\"Image\", sketch)"
   ]
  }
 ],
 "metadata": {
  "kernelspec": {
   "display_name": "Python 3 (ipykernel)",
   "language": "python",
   "name": "python3"
  },
  "language_info": {
   "codemirror_mode": {
    "name": "ipython",
    "version": 3
   },
   "file_extension": ".py",
   "mimetype": "text/x-python",
   "name": "python",
   "nbconvert_exporter": "python",
   "pygments_lexer": "ipython3",
   "version": "3.10.4"
  }
 },
 "nbformat": 4,
 "nbformat_minor": 5
}
